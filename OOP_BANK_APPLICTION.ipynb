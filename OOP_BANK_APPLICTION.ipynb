{
 "cells": [
  {
   "cell_type": "code",
   "execution_count": 1,
   "id": "fa282440",
   "metadata": {},
   "outputs": [],
   "source": [
    "class Transaction:\n",
    "    def __init__(self, amount, transaction_type):\n",
    "        self.amount = amount\n",
    "        self.transaction_type = transaction_type"
   ]
  },
  {
   "cell_type": "code",
   "execution_count": 5,
   "id": "1934d68e",
   "metadata": {},
   "outputs": [],
   "source": [
    "class Account:\n",
    "    def __int__(self, account_name, holder_name, balance=0):\n",
    "        self.account_name = account_name\n",
    "        self.holder_name = holder_name\n",
    "        self.balance = balance\n",
    "        self.transactions = []\n",
    "        \n",
    "    def deposit(self, amount):\n",
    "        if amount > 0:\n",
    "            self.balance += amount\n",
    "            self.transactions.append(Transaction(amount, 'Deposit'))\n",
    "            print(f\"Deposit of ${amount} Sccessful. New balance: ${self.balance}\")\n",
    "        else:\n",
    "            print(\"Invalid Deposit Amount\")\n",
    "\n",
    "    def withdraw(self, amount):\n",
    "        if 0 < amount <= self.balance:\n",
    "            self.balance -= amount\n",
    "            self.transactions.append(Transaction(amount, 'WithDrawal'))\n",
    "            print(f\"WithDrawal of ${amount} Sccessful. New balance: ${self.balance}\")\n",
    "        else:\n",
    "            print(\"Insufficient WithDrawal Amount or Invalid Amount.\")\n",
    "            \n",
    "    def display_transactons(self):\n",
    "        print(\"\\nTransaction History: \")\n",
    "        for transaction in self.transactions:\n",
    "            print(f\"${transaction.amount} {transaction.transaction_type}\")\n",
    "            \n",
    "    def display_balance(self):\n",
    "        print(f\"\\nCurrent Balance for Account {self.account_number}: ${self.balance}\")"
   ]
  },
  {
   "cell_type": "code",
   "execution_count": null,
   "id": "be1b36a0",
   "metadata": {},
   "outputs": [],
   "source": [
    "class Bank:\n",
    "    def __init__(self, name):\n",
    "        self.name = name\n",
    "        self.account = {}\n",
    "        \n",
    "    def create_account(self, account_number, holder_number, initial_balance=0):\n",
    "        if account_number not in self.accounts:\n",
    "            new_account = Account(account_number, holder_number, initial_balance)\n",
    "            self.accounts[account_number] = new_account\n",
    "            print(f\"Account created successfully for {holder_number}. Account number: {account_number}\")\n",
    "        else:\n",
    "            print(\"Account with the given already exist.\")\n",
    "        \n",
    "    def get_account(self, account_number):\n",
    "        return self.accounts.get(account_number)\n",
    "\n",
    "    "
   ]
  }
 ],
 "metadata": {
  "kernelspec": {
   "display_name": "Python 3 (ipykernel)",
   "language": "python",
   "name": "python3"
  },
  "language_info": {
   "codemirror_mode": {
    "name": "ipython",
    "version": 3
   },
   "file_extension": ".py",
   "mimetype": "text/x-python",
   "name": "python",
   "nbconvert_exporter": "python",
   "pygments_lexer": "ipython3",
   "version": "3.10.9"
  }
 },
 "nbformat": 4,
 "nbformat_minor": 5
}
